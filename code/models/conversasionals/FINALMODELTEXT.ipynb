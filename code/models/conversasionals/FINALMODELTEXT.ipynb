{
 "cells": [
  {
   "cell_type": "code",
   "execution_count": 10,
   "metadata": {},
   "outputs": [],
   "source": [
    "import numpy as np\n",
    "from sklearn.ensemble import RandomForestClassifier\n",
    "from sklearn.model_selection import train_test_split\n",
    "from sklearn.preprocessing import LabelEncoder, StandardScaler\n",
    "from sklearn.feature_extraction.text import TfidfVectorizer\n",
    "from gensim.models import Word2Vec\n",
    "import pandas as pd\n",
    "#concatenando\n",
    "df = pd.read_csv(\"C:\\\\Users\\\\lclai\\\\Desktop\\\\research LDIG\\\\data_dementia\\\\clean\\\\pitt_withoutwords.csv\")\n",
    "df = df[(df['label'] == 0) | (df['label'] == 1)]\n",
    "\n",
    "df[\"sex\"] = df[\"sex\"].map({\"M\": 0, \"F\": 1})  \n",
    "sex = df['sex'].to_numpy() \n",
    "age = df['age'].to_numpy().reshape(-1, 1)\n",
    "# TF-IDF\n",
    "vectorizer = TfidfVectorizer(max_features=5000)\n",
    "X_tfidf = vectorizer.fit_transform(df[\"clean_transcripts\"]).toarray()\n",
    "\n",
    "# Word2Vec\n",
    "clean_text = df[\"clean_transcripts\"].apply(lambda x: x.split())  \n",
    "word2vec_model = Word2Vec(sentences=clean_text, vector_size=100, window=5, min_count=1, workers=4)\n",
    "\n",
    "def get_word2vec_embedding(text, model):\n",
    "    word_vectors = [model.wv[word] for word in text if word in model.wv]\n",
    "    if len(word_vectors) == 0:\n",
    "        return np.zeros(model.vector_size)  \n",
    "    return np.mean(word_vectors, axis=0)  \n",
    "\n",
    "X_text_word2vec = np.array([get_word2vec_embedding(text, word2vec_model) for text in clean_text])\n",
    "\n",
    "\n",
    "#X = np.hstack((X_numeric, X_tfidf, X_text_word2vec))\n",
    "\n",
    "scaled = StandardScaler().fit_transform(np.hstack((age, X_text_word2vec)))\n",
    "\n",
    "X = np.column_stack((sex, scaled))\n",
    "\n",
    "y = LabelEncoder().fit_transform(df[\"label\"])  \n",
    "\n",
    "# Train-Test split\n",
    "X_train, X_test, y_train, y_test = train_test_split(X, y, test_size=0.2, random_state=42, stratify = y)\n"
   ]
  },
  {
   "cell_type": "code",
   "execution_count": 25,
   "metadata": {},
   "outputs": [],
   "source": [
    "from sklearn.ensemble import RandomForestClassifier\n",
    "rf = RandomForestClassifier(n_estimators=100, random_state=42)\n",
    "rf.fit(X_train, y_train)\n",
    "\n",
    "# Obtener las importancias de las características\n",
    "importances = rf.feature_importances_\n",
    "\n",
    "# Ordenar las características según su importancia\n",
    "indices = np.argsort(importances)[::-1]\n",
    "\n",
    "# Seleccionar las 50 características más importantes\n",
    "X_train = X_train[:, indices[:50]]\n",
    "X_test = X_test[:, indices[:50]]\n"
   ]
  },
  {
   "cell_type": "code",
   "execution_count": 12,
   "metadata": {},
   "outputs": [
    {
     "name": "stdout",
     "output_type": "stream",
     "text": [
      "Best parameters: {'max_depth': 10, 'min_samples_leaf': 1, 'min_samples_split': 2, 'n_estimators': 200}\n",
      "Best cross-validation AUC: 0.7525\n",
      "AUC on test set: 0.8419\n",
      "Accuracy on test set: 0.7900\n",
      "\n",
      "Classification Report:\n",
      "               precision    recall  f1-score   support\n",
      "\n",
      "           0       0.75      0.86      0.80        49\n",
      "           1       0.84      0.73      0.78        51\n",
      "\n",
      "    accuracy                           0.79       100\n",
      "   macro avg       0.80      0.79      0.79       100\n",
      "weighted avg       0.80      0.79      0.79       100\n",
      "\n"
     ]
    },
    {
     "data": {
      "image/png": "[encoded data removed]",
      "text/plain": [
       "<Figure size 600x500 with 2 Axes>"
      ]
     },
     "metadata": {},
     "output_type": "display_data"
    }
   ],
   "source": [
    "from sklearn.ensemble import RandomForestClassifier\n",
    "from sklearn.model_selection import cross_val_score, GridSearchCV\n",
    "from sklearn.metrics import roc_auc_score, classification_report, confusion_matrix, accuracy_score\n",
    "import numpy as np\n",
    "import matplotlib.pyplot as plt\n",
    "import seaborn as sns\n",
    "\n",
    "clf = RandomForestClassifier(random_state=42)\n",
    "param_grid = {\n",
    "    'n_estimators': [200, 500, 1000],\n",
    "    'max_depth': [None, 10, 20],\n",
    "    'min_samples_split': [2, 5],\n",
    "    'min_samples_leaf': [1, 2, 4]\n",
    "}\n",
    "\n",
    "grid_search = GridSearchCV(clf, param_grid, cv=5, scoring='roc_auc', n_jobs=-1)\n",
    "grid_search.fit(X_train, y_train)\n",
    "\n",
    "best_clf = grid_search.best_estimator_\n",
    "\n",
    "y_pred = best_clf.predict(X_test)\n",
    "y_pred_proba = best_clf.predict_proba(X_test)[:, 1]\n",
    "\n",
    "auc_score = roc_auc_score(y_test, y_pred_proba)\n",
    "accuracy = accuracy_score(y_test, y_pred)\n",
    "\n",
    "print(f\"Best parameters: {grid_search.best_params_}\")\n",
    "print(f\"Best cross-validation AUC: {grid_search.best_score_:.4f}\")\n",
    "print(f\"AUC on test set: {auc_score:.4f}\")\n",
    "print(f\"Accuracy on test set: {accuracy:.4f}\")\n",
    "print(\"\\nClassification Report:\\n\", classification_report(y_test, y_pred))\n",
    "\n",
    "cm = confusion_matrix(y_test, y_pred)\n",
    "plt.figure(figsize=(6, 5))\n",
    "sns.heatmap(cm, annot=True, fmt='d', cmap='Blues', xticklabels=['Class 0', 'Class 1'], yticklabels=['Class 0', 'Class 1'])\n",
    "plt.title('Confusion Matrix')\n",
    "plt.xlabel('Predicted Labels')\n",
    "plt.ylabel('True Labels')\n",
    "plt.show()"
   ]
  },
  {
   "cell_type": "code",
   "execution_count": 31,
   "metadata": {},
   "outputs": [
    {
     "name": "stdout",
     "output_type": "stream",
     "text": [
      "AUC (Ensemble RF + XGB): 0.8971588635454182\n",
      "Best RF parameters:  {'max_depth': 20, 'max_features': 'sqrt', 'min_samples_leaf': 1, 'min_samples_split': 2, 'n_estimators': 100}\n",
      "Best XGB parameters:  {'learning_rate': 0.1, 'max_depth': 3, 'n_estimators': 500, 'subsample': 1}\n"
     ]
    }
   ],
   "source": [
    "import numpy as np\n",
    "import pandas as pd\n",
    "from sklearn.ensemble import RandomForestClassifier\n",
    "from xgboost import XGBClassifier\n",
    "from sklearn.model_selection import GridSearchCV, StratifiedKFold\n",
    "from sklearn.metrics import roc_auc_score\n",
    "\n",
    "cv = StratifiedKFold(n_splits=5, shuffle=True, random_state=42)\n",
    "\n",
    "rf = RandomForestClassifier(random_state=42)\n",
    "rf_param_grid = {\n",
    "    'n_estimators': [100, 500],  \n",
    "    'max_depth': [10, 20, 30, None],  \n",
    "    'min_samples_split': [2, 5, 10],  \n",
    "    'min_samples_leaf': [1, 2, 4],  \n",
    "    'max_features': ['sqrt'],\n",
    "}\n",
    "\n",
    "rf_grid_search = GridSearchCV(rf, rf_param_grid, cv=cv, scoring='roc_auc', n_jobs=-1)\n",
    "rf_grid_search.fit(X_train, y_train)\n",
    "\n",
    "xgb = XGBClassifier(random_state=42, use_label_encoder=False, eval_metric='logloss')\n",
    "xgb_param_grid = {\n",
    "    'n_estimators': [100, 500],  \n",
    "    'max_depth': [3, 6, 10],  \n",
    "    'learning_rate': [0.01, 0.1, 0.3],  \n",
    "    'subsample': [0.8, 1],\n",
    "}\n",
    "\n",
    "xgb_grid_search = GridSearchCV(xgb, xgb_param_grid, cv=cv, scoring='roc_auc', n_jobs=-1)\n",
    "xgb_grid_search.fit(X_train, y_train)\n",
    "\n",
    "rf_proba = rf_grid_search.best_estimator_.predict_proba(X_test)[:, 1]  \n",
    "xgb_proba = xgb_grid_search.best_estimator_.predict_proba(X_test)[:, 1]  \n",
    "\n",
    "ensemble_proba = (rf_proba + xgb_proba) / 2  \n",
    "\n",
    "auc = roc_auc_score(y_test, ensemble_proba)\n",
    "print(f\"AUC (Ensemble RF + XGB): {auc}\")\n",
    "\n",
    "print(\"Best RF parameters: \", rf_grid_search.best_params_)\n",
    "print(\"Best XGB parameters: \", xgb_grid_search.best_params_)\n"
   ]
  }
 ],
 "metadata": {
  "kernelspec": {
   "display_name": "envlaia",
   "language": "python",
   "name": "python3"
  },
  "language_info": {
   "codemirror_mode": {
    "name": "ipython",
    "version": 3
   },
   "file_extension": ".py",
   "mimetype": "text/x-python",
   "name": "python",
   "nbconvert_exporter": "python",
   "pygments_lexer": "ipython3",
   "version": "3.12.2"
  }
 },
 "nbformat": 4,
 "nbformat_minor": 2
}
